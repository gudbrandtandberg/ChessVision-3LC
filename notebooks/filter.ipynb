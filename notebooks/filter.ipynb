{
 "cells": [
  {
   "cell_type": "code",
   "execution_count": 1,
   "metadata": {},
   "outputs": [],
   "source": [
    "import tlc\n",
    "\n",
    "# val = tlc.Table.from_url('C:/Users/gudbrand/AppData/Local/3LC/3LC/projects/chessvision-classification/datasets/chesspieces-val/tables/val-cleaned')\n",
    "table = tlc.Table.from_url(r\"C:\\Users\\gudbrand\\AppData\\Local\\3LC\\3LC\\projects\\chessvision-segmentation\\datasets\\chessboard-segmentation-train\\tables\\train-removed-duplicates\")\n",
    "\n"
   ]
  },
  {
   "cell_type": "code",
   "execution_count": 2,
   "metadata": {},
   "outputs": [],
   "source": [
    "filtered_table = tlc.FilteredTable(\n",
    "    url=table.url.create_sibling(\"train-cleaned-filtered\"),\n",
    "    input_table_url=table,\n",
    "    filter_criterion=tlc.NumericRangeFilterCriterion(\n",
    "        attribute=\"weight\",\n",
    "        min_value=0.999,\n",
    "        max_value=1.00000001,\n",
    "    ),\n",
    "    override_table_rows_schema=table.rows_schema,\n",
    ")"
   ]
  },
  {
   "cell_type": "code",
   "execution_count": 3,
   "metadata": {},
   "outputs": [
    {
     "name": "stdout",
     "output_type": "stream",
     "text": [
      "559\n",
      "559\n",
      "9\n",
      "True\n"
     ]
    }
   ],
   "source": [
    "print(len(filtered_table))\n",
    "filtered_table.ensure_fully_defined()\n",
    "print(len(filtered_table))\n",
    "print(len(table)-len(filtered_table))\n",
    "print(filtered_table.url.exists())"
   ]
  },
  {
   "cell_type": "code",
   "execution_count": 4,
   "metadata": {},
   "outputs": [
    {
     "data": {
      "text/plain": [
       "{'image': <PIL.JpegImagePlugin.JpegImageFile image mode=RGB size=256x256>,\n",
       " 'mask': <PIL.PngImagePlugin.PngImageFile image mode=L size=256x256>}"
      ]
     },
     "execution_count": 4,
     "metadata": {},
     "output_type": "execute_result"
    }
   ],
   "source": [
    "filtered_table[0]"
   ]
  }
 ],
 "metadata": {
  "kernelspec": {
   "display_name": ".venv-dev",
   "language": "python",
   "name": "python3"
  },
  "language_info": {
   "codemirror_mode": {
    "name": "ipython",
    "version": 3
   },
   "file_extension": ".py",
   "mimetype": "text/x-python",
   "name": "python",
   "nbconvert_exporter": "python",
   "pygments_lexer": "ipython3",
   "version": "3.11.3"
  }
 },
 "nbformat": 4,
 "nbformat_minor": 2
}
