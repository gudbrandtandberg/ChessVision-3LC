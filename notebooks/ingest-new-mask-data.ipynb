{
 "cells": [
  {
   "cell_type": "code",
   "execution_count": 1,
   "metadata": {},
   "outputs": [],
   "source": [
    "%load_ext autoreload\n",
    "%autoreload 2"
   ]
  },
  {
   "cell_type": "code",
   "execution_count": 2,
   "metadata": {},
   "outputs": [],
   "source": [
    "import tlc"
   ]
  },
  {
   "cell_type": "code",
   "execution_count": 3,
   "metadata": {},
   "outputs": [
    {
     "name": "stdout",
     "output_type": "stream",
     "text": [
      "C:\\Project\\ChessVision-3LC\\output\n"
     ]
    }
   ],
   "source": [
    "from pathlib import Path\n",
    "\n",
    "image_folder = Path(\"../output\").resolve().absolute()\n",
    "\n",
    "table = tlc.Table.from_image_folder(\n",
    "    image_folder,\n",
    "    include_label_column=False,\n",
    "    extensions=[\"jpg\"],\n",
    "    table_name=\"initial\",\n",
    "    dataset_name=\"chessvision-masks\",\n",
    "    project_name=\"chessvision-import\",\n",
    "    add_weight_column=False,\n",
    "    extra_columns={\"mask\": tlc.SegmentationPILImage(\"mask\", classes={0: \"background\", 255.0: \"chessboard\"})},\n",
    "    if_exists=\"rename\",\n",
    ")\n"
   ]
  },
  {
   "cell_type": "code",
   "execution_count": 13,
   "metadata": {},
   "outputs": [],
   "source": [
    "from PIL import Image\n",
    "\n",
    "# create a 512x512 black image:\n",
    "\n",
    "img = Image.new(\"L\", (512, 512), 0)\n",
    "base_mask_url = (table.bulk_data_url / \"mask\" / \"base.png\").to_absolute(table.url)\n",
    "base_mask_url.make_parents(True)\n",
    "img.save(base_mask_url.to_str())"
   ]
  },
  {
   "cell_type": "code",
   "execution_count": 10,
   "metadata": {},
   "outputs": [
    {
     "data": {
      "text/plain": [
       "Url('relative://../../bulk_data/samples/initial/mask/base.png')"
      ]
     },
     "execution_count": 10,
     "metadata": {},
     "output_type": "execute_result"
    }
   ],
   "source": [
    "base_mask_url"
   ]
  },
  {
   "cell_type": "code",
   "execution_count": 9,
   "metadata": {},
   "outputs": [
    {
     "name": "stdout",
     "output_type": "stream",
     "text": [
      "\u001b[90m3lc: \u001b[0mCreating transaction\n",
      "\u001b[90m3lc: \u001b[0mCommitting transaction\n",
      "\u001b[5m\u001b[31mWARNING\u001b[0m \u001b[90m3lc: \u001b[0mFailed to commit transaction: 403 {\"message\":\"Invalid API Key\"}\n"
     ]
    },
    {
     "data": {
      "text/plain": [
       "Url('C:/Users/gudbrand/AppData/Local/3LC/3LC/projects/chessvision-import/datasets/chessvision-masks/tables/added_base_mask')"
      ]
     },
     "execution_count": 9,
     "metadata": {},
     "output_type": "execute_result"
    }
   ],
   "source": [
    "edits = {\"mask\": {\"runs_and_values\": [(0, -len(table)), base_mask_url.to_str()]}}\n",
    "\n",
    "edited_table = tlc.EditedTable(\n",
    "    url=table.url.create_sibling(\"added_base_mask\"),\n",
    "    input_table_url=table,\n",
    "    edits=edits,\n",
    ")\n",
    "\n",
    "edited_table.write_to_url()"
   ]
  }
 ],
 "metadata": {
  "kernelspec": {
   "display_name": ".venv-dev",
   "language": "python",
   "name": "python3"
  },
  "language_info": {
   "codemirror_mode": {
    "name": "ipython",
    "version": 3
   },
   "file_extension": ".py",
   "mimetype": "text/x-python",
   "name": "python",
   "nbconvert_exporter": "python",
   "pygments_lexer": "ipython3",
   "version": "3.11.3"
  }
 },
 "nbformat": 4,
 "nbformat_minor": 2
}
