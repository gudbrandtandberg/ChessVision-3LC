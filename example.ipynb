{
 "cells": [
  {
   "cell_type": "markdown",
   "metadata": {},
   "source": [
    "# ChessVision Example\n",
    "\n",
    "This notebook demonstrates the end-to-end process of detecting a chess position from an image using the ChessVision pipeline."
   ]
  },
  {
   "cell_type": "code",
   "execution_count": 14,
   "metadata": {},
   "outputs": [],
   "source": [
    "import io\n",
    "from pathlib import Path\n",
    "\n",
    "import cairosvg\n",
    "import chess\n",
    "import chess.svg\n",
    "import cv2\n",
    "import matplotlib.pyplot as plt\n",
    "\n",
    "from chessvision.predict.classify_raw import classify_raw\n",
    "from chessvision.utils import DATA_ROOT\n"
   ]
  },
  {
   "cell_type": "code",
   "execution_count": 15,
   "metadata": {},
   "outputs": [],
   "source": [
    "# Read the test image\n",
    "test_image_path = Path(DATA_ROOT) / \"test\" / \"raw\" / \"3cb7e9ca-0549-4072-a0ef-ae5ea82174e6.JPG\"\n",
    "img = cv2.imread(str(test_image_path))\n"
   ]
  },
  {
   "cell_type": "markdown",
   "metadata": {},
   "source": [
    "## Process the Image with ChessVision Pipeline"
   ]
  },
  {
   "cell_type": "code",
   "execution_count": null,
   "metadata": {},
   "outputs": [],
   "source": [
    "# Process the image using the ChessVision pipeline\n",
    "board_img, mask, predictions, chessboard, fen, squares, names = classify_raw(img, filename=test_image_path.name)\n",
    "\n",
    "print(fen)\n"
   ]
  },
  {
   "cell_type": "markdown",
   "metadata": {},
   "source": [
    "## Visualize the Detected Chess Position"
   ]
  },
  {
   "cell_type": "code",
   "execution_count": 17,
   "metadata": {},
   "outputs": [],
   "source": [
    "# Function to display multiple images in a row with different sizes\n",
    "def display_comparison(original_img, mask, board_img, fen, figsize=(20, 5)):\n",
    "    fig, axes = plt.subplots(1, 4, figsize=figsize)\n",
    "\n",
    "    # Original image\n",
    "    axes[0].imshow(cv2.cvtColor(original_img, cv2.COLOR_BGR2RGB))\n",
    "    axes[0].set_title('Original Image')\n",
    "    axes[0].axis('off')\n",
    "\n",
    "    # Segmentation mask\n",
    "    axes[1].imshow(mask, cmap='gray')\n",
    "    axes[1].set_title('Segmentation Mask')\n",
    "    axes[1].axis('off')\n",
    "\n",
    "    # Extracted board\n",
    "    axes[2].imshow(board_img, cmap='gray')\n",
    "    axes[2].set_title('Extracted Board')\n",
    "    axes[2].axis('off')\n",
    "\n",
    "    # Chess position\n",
    "    if fen:\n",
    "        board = chess.Board(fen)\n",
    "        svg_board = chess.svg.board(board, size=300)\n",
    "        axes[3].axis('off')\n",
    "        axes[3].set_title('Detected Position')\n",
    "\n",
    "        # Convert SVG to a format matplotlib can display\n",
    "        svg_img = cairosvg.svg2png(bytestring=svg_board.encode())\n",
    "        chess_img = plt.imread(io.BytesIO(svg_img))\n",
    "        axes[3].imshow(chess_img)\n",
    "    else:\n",
    "        axes[3].text(0.5, 0.5, 'No valid FEN detected', \n",
    "                    horizontalalignment='center', verticalalignment='center')\n",
    "        axes[3].axis('off')\n",
    "\n",
    "    plt.tight_layout()\n",
    "    plt.show()"
   ]
  },
  {
   "cell_type": "code",
   "execution_count": null,
   "metadata": {},
   "outputs": [],
   "source": [
    "# Display the full comparison if all components are available\n",
    "if board_img is not None and chessboard is not None:\n",
    "    display_comparison(img, mask, board_img, fen)"
   ]
  }
 ],
 "metadata": {
  "kernelspec": {
   "display_name": "Python 3",
   "language": "python",
   "name": "python3"
  },
  "language_info": {
   "codemirror_mode": {
    "name": "ipython",
    "version": 3
   },
   "file_extension": ".py",
   "mimetype": "text/x-python",
   "name": "python",
   "nbconvert_exporter": "python",
   "pygments_lexer": "ipython3",
   "version": "3.11.3"
  }
 },
 "nbformat": 4,
 "nbformat_minor": 4
}
